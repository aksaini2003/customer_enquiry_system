{
 "cells": [
  {
   "cell_type": "code",
   "execution_count": null,
   "id": "a2915de5",
   "metadata": {
    "vscode": {
     "languageId": "plaintext"
    }
   },
   "outputs": [],
   "source": [
    "#for creation of the directory structure of django \n",
    "#-- django-admin startproject my_project \n",
    "\n",
    "\n",
    "#for setting up this directory \n",
    "# --python manage.py migrate \n",
    "\n",
    "\n",
    "#for running the server \n",
    "#-- python manage.py runserver\n",
    "\n",
    "\n",
    "#for creating a application \n",
    "#-- python manage.py startapp myapp\n",
    "\n",
    "NOTE: after creating an app we have to register it in the settings.py file"
   ]
  },
  {
   "cell_type": "markdown",
   "id": "b07e82c3",
   "metadata": {},
   "source": []
  },
  {
   "cell_type": "code",
   "execution_count": null,
   "id": "22a893af",
   "metadata": {
    "vscode": {
     "languageId": "plaintext"
    }
   },
   "outputs": [],
   "source": []
  }
 ],
 "metadata": {
  "language_info": {
   "name": "python"
  }
 },
 "nbformat": 4,
 "nbformat_minor": 5
}
